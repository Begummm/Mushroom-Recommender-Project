{
 "cells": [
  {
   "cell_type": "markdown",
   "metadata": {},
   "source": [
    "# Neural Networks and Learning Course\n",
    "----------------------------------------------------------\n",
    "# Mushroom Recommender Projet\n",
    "----------------------------------------------------------\n",
    "# By Begum SARIGUZEL"
   ]
  },
  {
   "cell_type": "markdown",
   "metadata": {},
   "source": [
    "#### Importing libraires "
   ]
  },
  {
   "cell_type": "code",
   "execution_count": 196,
   "metadata": {},
   "outputs": [],
   "source": [
    "import pandas as pd\n",
    "import seaborn as sns\n",
    "import numpy as np\n",
    "import matplotlib.pyplot as plt\n",
    "from sklearn.preprocessing import OneHotEncoder\n",
    "from sklearn.preprocessing import LabelEncoder\n",
    "from sklearn.model_selection import train_test_split\n",
    "from sklearn.tree import DecisionTreeClassifier\n",
    "from sklearn.metrics import accuracy_score\n",
    "from sklearn.metrics import classification_report,confusion_matrix\n",
    "\n",
    "from sklearn import tree\n",
    "import graphviz \n",
    "%matplotlib inline"
   ]
  },
  {
   "cell_type": "markdown",
   "metadata": {},
   "source": [
    "#### Loading the data"
   ]
  },
  {
   "cell_type": "code",
   "execution_count": 197,
   "metadata": {},
   "outputs": [],
   "source": [
    "mushroom = pd.read_csv(\"mushrooms.csv\")\n"
   ]
  },
  {
   "cell_type": "code",
   "execution_count": 198,
   "metadata": {},
   "outputs": [],
   "source": [
    "mushroom.drop(['gill-attachment'],axis=1,inplace=True)\n",
    "mushroom.drop(['veil-color'],axis=1,inplace=True)\n",
    "mushroom.drop(['ring-number'],axis=1,inplace=True)"
   ]
  },
  {
   "cell_type": "code",
   "execution_count": 199,
   "metadata": {},
   "outputs": [],
   "source": [
    "mushroom[mushroom.columns] = mushroom[mushroom.columns].astype('category')\n",
    "target = mushroom['class']"
   ]
  },
  {
   "cell_type": "code",
   "execution_count": 200,
   "metadata": {},
   "outputs": [],
   "source": [
    "labelen = LabelEncoder()\n",
    "mushroom_encode = mushroom[mushroom.columns].apply(lambda col: labelen.fit_transform(col))"
   ]
  },
  {
   "cell_type": "code",
   "execution_count": 201,
   "metadata": {},
   "outputs": [],
   "source": [
    "mushroom.drop(['veil-type'],axis=1,inplace=True)\n",
    "mushroom_encode.drop(['veil-type'],axis=1,inplace=True)"
   ]
  },
  {
   "cell_type": "code",
   "execution_count": 202,
   "metadata": {},
   "outputs": [],
   "source": [
    "y = mushroom_encode['class']\n",
    "mushroom_encode.drop(['class'],axis=1,inplace=True)"
   ]
  },
  {
   "cell_type": "markdown",
   "metadata": {},
   "source": [
    "#### Creating small data consisted of odorless white spore point color mushrooms"
   ]
  },
  {
   "cell_type": "code",
   "execution_count": 204,
   "metadata": {},
   "outputs": [
    {
     "data": {
      "text/plain": [
       "0.9231905465288035"
      ]
     },
     "execution_count": 204,
     "metadata": {},
     "output_type": "execute_result"
    }
   ],
   "source": [
    "no_odor = mushroom[mushroom['odor'].isin(['n'])]\n",
    "no_odor_w = no_odor[no_odor['spore-print-color'].isin(['w'])]\n",
    "(len(mushroom.index) - len(no_odor_w.index)) / len(mushroom.index)"
   ]
  },
  {
   "cell_type": "code",
   "execution_count": 205,
   "metadata": {},
   "outputs": [
    {
     "data": {
      "text/plain": [
       "3984    e\n",
       "4165    e\n",
       "4276    e\n",
       "4283    e\n",
       "4291    e\n",
       "       ..\n",
       "8094    e\n",
       "8096    e\n",
       "8099    e\n",
       "8109    e\n",
       "8111    e\n",
       "Name: class, Length: 624, dtype: category\n",
       "Categories (2, object): [e, p]"
      ]
     },
     "execution_count": 205,
     "metadata": {},
     "output_type": "execute_result"
    }
   ],
   "source": [
    "y_no_odor = no_odor_w['class']\n",
    "y_no_odor"
   ]
  },
  {
   "cell_type": "code",
   "execution_count": 206,
   "metadata": {},
   "outputs": [],
   "source": [
    "no_odor_encode = no_odor_w[no_odor_w.columns].apply(lambda col: labelen.fit_transform(col))\n"
   ]
  },
  {
   "cell_type": "code",
   "execution_count": 207,
   "metadata": {},
   "outputs": [],
   "source": [
    "y_no_odor = no_odor_encode['class']\n",
    "no_odor_encode.drop(['class'],axis=1,inplace=True)"
   ]
  },
  {
   "cell_type": "code",
   "execution_count": 208,
   "metadata": {},
   "outputs": [
    {
     "name": "stderr",
     "output_type": "stream",
     "text": [
      "C:\\Users\\begum\\AppData\\Local\\Continuum\\anaconda3\\lib\\site-packages\\pandas\\core\\frame.py:4102: SettingWithCopyWarning: \n",
      "A value is trying to be set on a copy of a slice from a DataFrame\n",
      "\n",
      "See the caveats in the documentation: http://pandas.pydata.org/pandas-docs/stable/user_guide/indexing.html#returning-a-view-versus-a-copy\n",
      "  errors=errors,\n"
     ]
    }
   ],
   "source": [
    "column_names_no_odor = no_odor_w.columns\n",
    "no_odor_w.drop(['class'],axis=1,inplace=True)\n",
    "no_odor_preprocessed = pd.get_dummies(no_odor_w)\n"
   ]
  },
  {
   "cell_type": "markdown",
   "metadata": {},
   "source": [
    "### Decision tree classifier model"
   ]
  },
  {
   "cell_type": "markdown",
   "metadata": {},
   "source": [
    "##### Splitting the data for 30% of testing data"
   ]
  },
  {
   "cell_type": "code",
   "execution_count": 209,
   "metadata": {},
   "outputs": [],
   "source": [
    "X_train, X_test, y_train, y_test = train_test_split(no_odor_preprocessed,y_no_odor, test_size=0.3)"
   ]
  },
  {
   "cell_type": "markdown",
   "metadata": {},
   "source": [
    "##### Creating the classifier"
   ]
  },
  {
   "cell_type": "code",
   "execution_count": 210,
   "metadata": {},
   "outputs": [],
   "source": [
    "clf2 = DecisionTreeClassifier()"
   ]
  },
  {
   "cell_type": "markdown",
   "metadata": {},
   "source": [
    "##### Training the model"
   ]
  },
  {
   "cell_type": "code",
   "execution_count": 211,
   "metadata": {},
   "outputs": [
    {
     "data": {
      "text/plain": [
       "DecisionTreeClassifier(class_weight=None, criterion='gini', max_depth=None,\n",
       "                       max_features=None, max_leaf_nodes=None,\n",
       "                       min_impurity_decrease=0.0, min_impurity_split=None,\n",
       "                       min_samples_leaf=1, min_samples_split=2,\n",
       "                       min_weight_fraction_leaf=0.0, presort=False,\n",
       "                       random_state=None, splitter='best')"
      ]
     },
     "execution_count": 211,
     "metadata": {},
     "output_type": "execute_result"
    }
   ],
   "source": [
    "clf2.fit(X_train,y_train)"
   ]
  },
  {
   "cell_type": "markdown",
   "metadata": {},
   "source": [
    "##### Accuracy for each depth"
   ]
  },
  {
   "cell_type": "code",
   "execution_count": 212,
   "metadata": {},
   "outputs": [
    {
     "name": "stdout",
     "output_type": "stream",
     "text": [
      "Max depth: 1 - accuracy: 0.9361702127659575\n",
      "Max depth: 2 - accuracy: 0.9840425531914894\n",
      "Max depth: 3 - accuracy: 0.9893617021276596\n",
      "Max depth: 4 - accuracy: 0.9893617021276596\n",
      "Max depth: 5 - accuracy: 1.0\n"
     ]
    }
   ],
   "source": [
    "for i in range(1,6):\n",
    "    mad = DecisionTreeClassifier(max_depth=i,random_state=42)\n",
    "    mad.fit(X_train,y_train)\n",
    "    y_pred = mad.predict(X_test)\n",
    "    print(\"Max depth: {} - accuracy:\".format(i), accuracy_score(y_test, y_pred, normalize=True))"
   ]
  },
  {
   "cell_type": "markdown",
   "metadata": {},
   "source": [
    "##### Evaluation of the model"
   ]
  },
  {
   "cell_type": "code",
   "execution_count": 213,
   "metadata": {},
   "outputs": [
    {
     "name": "stdout",
     "output_type": "stream",
     "text": [
      "[[170   0]\n",
      " [  0  18]]\n"
     ]
    }
   ],
   "source": [
    "print(confusion_matrix(y_test, y_pred))"
   ]
  },
  {
   "cell_type": "markdown",
   "metadata": {},
   "source": [
    "##### Visualization of the decision tree"
   ]
  },
  {
   "cell_type": "code",
   "execution_count": 214,
   "metadata": {},
   "outputs": [
    {
     "data": {
      "image/svg+xml": [
       "<?xml version=\"1.0\" encoding=\"UTF-8\" standalone=\"no\"?>\r\n",
       "<!DOCTYPE svg PUBLIC \"-//W3C//DTD SVG 1.1//EN\"\r\n",
       " \"http://www.w3.org/Graphics/SVG/1.1/DTD/svg11.dtd\">\r\n",
       "<!-- Generated by graphviz version 2.38.0 (20140413.2041)\r\n",
       " -->\r\n",
       "<!-- Title: Tree Pages: 1 -->\r\n",
       "<svg width=\"634pt\" height=\"671pt\"\r\n",
       " viewBox=\"0.00 0.00 634.00 671.00\" xmlns=\"http://www.w3.org/2000/svg\" xmlns:xlink=\"http://www.w3.org/1999/xlink\">\r\n",
       "<g id=\"graph0\" class=\"graph\" transform=\"scale(1 1) rotate(0) translate(4 667)\">\r\n",
       "<title>Tree</title>\r\n",
       "<polygon fill=\"white\" stroke=\"none\" points=\"-4,4 -4,-667 630,-667 630,4 -4,4\"/>\r\n",
       "<!-- 0 -->\r\n",
       "<g id=\"node1\" class=\"node\"><title>0</title>\r\n",
       "<path fill=\"#e78a48\" stroke=\"black\" d=\"M440.5,-663C440.5,-663 342.5,-663 342.5,-663 336.5,-663 330.5,-657 330.5,-651 330.5,-651 330.5,-592 330.5,-592 330.5,-586 336.5,-580 342.5,-580 342.5,-580 440.5,-580 440.5,-580 446.5,-580 452.5,-586 452.5,-592 452.5,-592 452.5,-651 452.5,-651 452.5,-657 446.5,-663 440.5,-663\"/>\r\n",
       "<text text-anchor=\"start\" x=\"344.5\" y=\"-647.8\" font-family=\"Helvetica,sans-Serif\" font-size=\"14.00\">habitat_d ≤ 0.5</text>\r\n",
       "<text text-anchor=\"start\" x=\"354\" y=\"-632.8\" font-family=\"Helvetica,sans-Serif\" font-size=\"14.00\">gini = 0.128</text>\r\n",
       "<text text-anchor=\"start\" x=\"344\" y=\"-617.8\" font-family=\"Helvetica,sans-Serif\" font-size=\"14.00\">samples = 436</text>\r\n",
       "<text text-anchor=\"start\" x=\"338.5\" y=\"-602.8\" font-family=\"Helvetica,sans-Serif\" font-size=\"14.00\">value = [406, 30]</text>\r\n",
       "<text text-anchor=\"start\" x=\"362.5\" y=\"-587.8\" font-family=\"Helvetica,sans-Serif\" font-size=\"14.00\">class = p</text>\r\n",
       "</g>\r\n",
       "<!-- 1 -->\r\n",
       "<g id=\"node2\" class=\"node\"><title>1</title>\r\n",
       "<path fill=\"#e6843d\" stroke=\"black\" d=\"M369,-544C369,-544 268,-544 268,-544 262,-544 256,-538 256,-532 256,-532 256,-473 256,-473 256,-467 262,-461 268,-461 268,-461 369,-461 369,-461 375,-461 381,-467 381,-473 381,-473 381,-532 381,-532 381,-538 375,-544 369,-544\"/>\r\n",
       "<text text-anchor=\"start\" x=\"264\" y=\"-528.8\" font-family=\"Helvetica,sans-Serif\" font-size=\"14.00\">stalk&#45;root_c ≤ 0.5</text>\r\n",
       "<text text-anchor=\"start\" x=\"281\" y=\"-513.8\" font-family=\"Helvetica,sans-Serif\" font-size=\"14.00\">gini = 0.038</text>\r\n",
       "<text text-anchor=\"start\" x=\"271\" y=\"-498.8\" font-family=\"Helvetica,sans-Serif\" font-size=\"14.00\">samples = 410</text>\r\n",
       "<text text-anchor=\"start\" x=\"270\" y=\"-483.8\" font-family=\"Helvetica,sans-Serif\" font-size=\"14.00\">value = [402, 8]</text>\r\n",
       "<text text-anchor=\"start\" x=\"289.5\" y=\"-468.8\" font-family=\"Helvetica,sans-Serif\" font-size=\"14.00\">class = p</text>\r\n",
       "</g>\r\n",
       "<!-- 0&#45;&gt;1 -->\r\n",
       "<g id=\"edge1\" class=\"edge\"><title>0&#45;&gt;1</title>\r\n",
       "<path fill=\"none\" stroke=\"black\" d=\"M366.173,-579.907C360.681,-571.105 354.815,-561.703 349.143,-552.612\"/>\r\n",
       "<polygon fill=\"black\" stroke=\"black\" points=\"352.045,-550.652 343.782,-544.021 346.106,-554.358 352.045,-550.652\"/>\r\n",
       "<text text-anchor=\"middle\" x=\"338.142\" y=\"-564.676\" font-family=\"Helvetica,sans-Serif\" font-size=\"14.00\">True</text>\r\n",
       "</g>\r\n",
       "<!-- 10 -->\r\n",
       "<g id=\"node11\" class=\"node\"><title>10</title>\r\n",
       "<path fill=\"#5dafea\" stroke=\"black\" d=\"M519.5,-544C519.5,-544 411.5,-544 411.5,-544 405.5,-544 399.5,-538 399.5,-532 399.5,-532 399.5,-473 399.5,-473 399.5,-467 405.5,-461 411.5,-461 411.5,-461 519.5,-461 519.5,-461 525.5,-461 531.5,-467 531.5,-473 531.5,-473 531.5,-532 531.5,-532 531.5,-538 525.5,-544 519.5,-544\"/>\r\n",
       "<text text-anchor=\"start\" x=\"407.5\" y=\"-528.8\" font-family=\"Helvetica,sans-Serif\" font-size=\"14.00\">population_y ≤ 0.5</text>\r\n",
       "<text text-anchor=\"start\" x=\"432\" y=\"-513.8\" font-family=\"Helvetica,sans-Serif\" font-size=\"14.00\">gini = 0.26</text>\r\n",
       "<text text-anchor=\"start\" x=\"422\" y=\"-498.8\" font-family=\"Helvetica,sans-Serif\" font-size=\"14.00\">samples = 26</text>\r\n",
       "<text text-anchor=\"start\" x=\"421\" y=\"-483.8\" font-family=\"Helvetica,sans-Serif\" font-size=\"14.00\">value = [4, 22]</text>\r\n",
       "<text text-anchor=\"start\" x=\"436.5\" y=\"-468.8\" font-family=\"Helvetica,sans-Serif\" font-size=\"14.00\">class = e</text>\r\n",
       "</g>\r\n",
       "<!-- 0&#45;&gt;10 -->\r\n",
       "<g id=\"edge10\" class=\"edge\"><title>0&#45;&gt;10</title>\r\n",
       "<path fill=\"none\" stroke=\"black\" d=\"M417.174,-579.907C422.742,-571.105 428.688,-561.703 434.438,-552.612\"/>\r\n",
       "<polygon fill=\"black\" stroke=\"black\" points=\"437.484,-554.343 439.871,-544.021 431.568,-550.601 437.484,-554.343\"/>\r\n",
       "<text text-anchor=\"middle\" x=\"445.362\" y=\"-564.71\" font-family=\"Helvetica,sans-Serif\" font-size=\"14.00\">False</text>\r\n",
       "</g>\r\n",
       "<!-- 2 -->\r\n",
       "<g id=\"node3\" class=\"node\"><title>2</title>\r\n",
       "<path fill=\"#e5833b\" stroke=\"black\" d=\"M247,-425C247,-425 128,-425 128,-425 122,-425 116,-419 116,-413 116,-413 116,-354 116,-354 116,-348 122,-342 128,-342 128,-342 247,-342 247,-342 253,-342 259,-348 259,-354 259,-354 259,-413 259,-413 259,-419 253,-425 247,-425\"/>\r\n",
       "<text text-anchor=\"start\" x=\"124\" y=\"-409.8\" font-family=\"Helvetica,sans-Serif\" font-size=\"14.00\">cap&#45;surface_g ≤ 0.5</text>\r\n",
       "<text text-anchor=\"start\" x=\"150\" y=\"-394.8\" font-family=\"Helvetica,sans-Serif\" font-size=\"14.00\">gini = 0.024</text>\r\n",
       "<text text-anchor=\"start\" x=\"140\" y=\"-379.8\" font-family=\"Helvetica,sans-Serif\" font-size=\"14.00\">samples = 407</text>\r\n",
       "<text text-anchor=\"start\" x=\"139\" y=\"-364.8\" font-family=\"Helvetica,sans-Serif\" font-size=\"14.00\">value = [402, 5]</text>\r\n",
       "<text text-anchor=\"start\" x=\"158.5\" y=\"-349.8\" font-family=\"Helvetica,sans-Serif\" font-size=\"14.00\">class = p</text>\r\n",
       "</g>\r\n",
       "<!-- 1&#45;&gt;2 -->\r\n",
       "<g id=\"edge2\" class=\"edge\"><title>1&#45;&gt;2</title>\r\n",
       "<path fill=\"none\" stroke=\"black\" d=\"M273.05,-460.907C262.584,-451.56 251.363,-441.538 240.604,-431.929\"/>\r\n",
       "<polygon fill=\"black\" stroke=\"black\" points=\"242.659,-429.072 232.869,-425.021 237.996,-434.293 242.659,-429.072\"/>\r\n",
       "</g>\r\n",
       "<!-- 9 -->\r\n",
       "<g id=\"node10\" class=\"node\"><title>9</title>\r\n",
       "<path fill=\"#399de5\" stroke=\"black\" d=\"M362,-417.5C362,-417.5 289,-417.5 289,-417.5 283,-417.5 277,-411.5 277,-405.5 277,-405.5 277,-361.5 277,-361.5 277,-355.5 283,-349.5 289,-349.5 289,-349.5 362,-349.5 362,-349.5 368,-349.5 374,-355.5 374,-361.5 374,-361.5 374,-405.5 374,-405.5 374,-411.5 368,-417.5 362,-417.5\"/>\r\n",
       "<text text-anchor=\"start\" x=\"296.5\" y=\"-402.3\" font-family=\"Helvetica,sans-Serif\" font-size=\"14.00\">gini = 0.0</text>\r\n",
       "<text text-anchor=\"start\" x=\"286\" y=\"-387.3\" font-family=\"Helvetica,sans-Serif\" font-size=\"14.00\">samples = 3</text>\r\n",
       "<text text-anchor=\"start\" x=\"285\" y=\"-372.3\" font-family=\"Helvetica,sans-Serif\" font-size=\"14.00\">value = [0, 3]</text>\r\n",
       "<text text-anchor=\"start\" x=\"296.5\" y=\"-357.3\" font-family=\"Helvetica,sans-Serif\" font-size=\"14.00\">class = e</text>\r\n",
       "</g>\r\n",
       "<!-- 1&#45;&gt;9 -->\r\n",
       "<g id=\"edge9\" class=\"edge\"><title>1&#45;&gt;9</title>\r\n",
       "<path fill=\"none\" stroke=\"black\" d=\"M320.929,-460.907C321.569,-450.204 322.262,-438.615 322.911,-427.776\"/>\r\n",
       "<polygon fill=\"black\" stroke=\"black\" points=\"326.412,-427.858 323.516,-417.667 319.425,-427.44 326.412,-427.858\"/>\r\n",
       "</g>\r\n",
       "<!-- 3 -->\r\n",
       "<g id=\"node4\" class=\"node\"><title>3</title>\r\n",
       "<path fill=\"#e5823a\" stroke=\"black\" d=\"M171,-306C171,-306 82,-306 82,-306 76,-306 70,-300 70,-294 70,-294 70,-235 70,-235 70,-229 76,-223 82,-223 82,-223 171,-223 171,-223 177,-223 183,-229 183,-235 183,-235 183,-294 183,-294 183,-300 177,-306 171,-306\"/>\r\n",
       "<text text-anchor=\"start\" x=\"82.5\" y=\"-290.8\" font-family=\"Helvetica,sans-Serif\" font-size=\"14.00\">habitat_l ≤ 0.5</text>\r\n",
       "<text text-anchor=\"start\" x=\"93\" y=\"-275.8\" font-family=\"Helvetica,sans-Serif\" font-size=\"14.00\">gini = 0.01</text>\r\n",
       "<text text-anchor=\"start\" x=\"79\" y=\"-260.8\" font-family=\"Helvetica,sans-Serif\" font-size=\"14.00\">samples = 404</text>\r\n",
       "<text text-anchor=\"start\" x=\"78\" y=\"-245.8\" font-family=\"Helvetica,sans-Serif\" font-size=\"14.00\">value = [402, 2]</text>\r\n",
       "<text text-anchor=\"start\" x=\"97.5\" y=\"-230.8\" font-family=\"Helvetica,sans-Serif\" font-size=\"14.00\">class = p</text>\r\n",
       "</g>\r\n",
       "<!-- 2&#45;&gt;3 -->\r\n",
       "<g id=\"edge3\" class=\"edge\"><title>2&#45;&gt;3</title>\r\n",
       "<path fill=\"none\" stroke=\"black\" d=\"M166.336,-341.907C161.794,-333.195 156.946,-323.897 152.252,-314.893\"/>\r\n",
       "<polygon fill=\"black\" stroke=\"black\" points=\"155.353,-313.27 147.626,-306.021 149.146,-316.506 155.353,-313.27\"/>\r\n",
       "</g>\r\n",
       "<!-- 8 -->\r\n",
       "<g id=\"node9\" class=\"node\"><title>8</title>\r\n",
       "<path fill=\"#399de5\" stroke=\"black\" d=\"M286,-298.5C286,-298.5 213,-298.5 213,-298.5 207,-298.5 201,-292.5 201,-286.5 201,-286.5 201,-242.5 201,-242.5 201,-236.5 207,-230.5 213,-230.5 213,-230.5 286,-230.5 286,-230.5 292,-230.5 298,-236.5 298,-242.5 298,-242.5 298,-286.5 298,-286.5 298,-292.5 292,-298.5 286,-298.5\"/>\r\n",
       "<text text-anchor=\"start\" x=\"220.5\" y=\"-283.3\" font-family=\"Helvetica,sans-Serif\" font-size=\"14.00\">gini = 0.0</text>\r\n",
       "<text text-anchor=\"start\" x=\"210\" y=\"-268.3\" font-family=\"Helvetica,sans-Serif\" font-size=\"14.00\">samples = 3</text>\r\n",
       "<text text-anchor=\"start\" x=\"209\" y=\"-253.3\" font-family=\"Helvetica,sans-Serif\" font-size=\"14.00\">value = [0, 3]</text>\r\n",
       "<text text-anchor=\"start\" x=\"220.5\" y=\"-238.3\" font-family=\"Helvetica,sans-Serif\" font-size=\"14.00\">class = e</text>\r\n",
       "</g>\r\n",
       "<!-- 2&#45;&gt;8 -->\r\n",
       "<g id=\"edge8\" class=\"edge\"><title>2&#45;&gt;8</title>\r\n",
       "<path fill=\"none\" stroke=\"black\" d=\"M209.011,-341.907C214.858,-330.873 221.204,-318.898 227.099,-307.773\"/>\r\n",
       "<polygon fill=\"black\" stroke=\"black\" points=\"230.335,-309.142 231.924,-298.667 224.149,-305.864 230.335,-309.142\"/>\r\n",
       "</g>\r\n",
       "<!-- 4 -->\r\n",
       "<g id=\"node5\" class=\"node\"><title>4</title>\r\n",
       "<path fill=\"#e58139\" stroke=\"black\" d=\"M101,-179.5C101,-179.5 12,-179.5 12,-179.5 6,-179.5 0,-173.5 0,-167.5 0,-167.5 0,-123.5 0,-123.5 0,-117.5 6,-111.5 12,-111.5 12,-111.5 101,-111.5 101,-111.5 107,-111.5 113,-117.5 113,-123.5 113,-123.5 113,-167.5 113,-167.5 113,-173.5 107,-179.5 101,-179.5\"/>\r\n",
       "<text text-anchor=\"start\" x=\"27.5\" y=\"-164.3\" font-family=\"Helvetica,sans-Serif\" font-size=\"14.00\">gini = 0.0</text>\r\n",
       "<text text-anchor=\"start\" x=\"9\" y=\"-149.3\" font-family=\"Helvetica,sans-Serif\" font-size=\"14.00\">samples = 367</text>\r\n",
       "<text text-anchor=\"start\" x=\"8\" y=\"-134.3\" font-family=\"Helvetica,sans-Serif\" font-size=\"14.00\">value = [367, 0]</text>\r\n",
       "<text text-anchor=\"start\" x=\"27.5\" y=\"-119.3\" font-family=\"Helvetica,sans-Serif\" font-size=\"14.00\">class = p</text>\r\n",
       "</g>\r\n",
       "<!-- 3&#45;&gt;4 -->\r\n",
       "<g id=\"edge4\" class=\"edge\"><title>3&#45;&gt;4</title>\r\n",
       "<path fill=\"none\" stroke=\"black\" d=\"M102.214,-222.907C95.546,-211.763 88.304,-199.658 81.5918,-188.439\"/>\r\n",
       "<polygon fill=\"black\" stroke=\"black\" points=\"84.4812,-186.451 76.3435,-179.667 78.4742,-190.045 84.4812,-186.451\"/>\r\n",
       "</g>\r\n",
       "<!-- 5 -->\r\n",
       "<g id=\"node6\" class=\"node\"><title>5</title>\r\n",
       "<path fill=\"#e68844\" stroke=\"black\" d=\"M252,-187C252,-187 143,-187 143,-187 137,-187 131,-181 131,-175 131,-175 131,-116 131,-116 131,-110 137,-104 143,-104 143,-104 252,-104 252,-104 258,-104 264,-110 264,-116 264,-116 264,-175 264,-175 264,-181 258,-187 252,-187\"/>\r\n",
       "<text text-anchor=\"start\" x=\"139\" y=\"-171.8\" font-family=\"Helvetica,sans-Serif\" font-size=\"14.00\">population_c ≤ 0.5</text>\r\n",
       "<text text-anchor=\"start\" x=\"160\" y=\"-156.8\" font-family=\"Helvetica,sans-Serif\" font-size=\"14.00\">gini = 0.102</text>\r\n",
       "<text text-anchor=\"start\" x=\"154\" y=\"-141.8\" font-family=\"Helvetica,sans-Serif\" font-size=\"14.00\">samples = 37</text>\r\n",
       "<text text-anchor=\"start\" x=\"153\" y=\"-126.8\" font-family=\"Helvetica,sans-Serif\" font-size=\"14.00\">value = [35, 2]</text>\r\n",
       "<text text-anchor=\"start\" x=\"168.5\" y=\"-111.8\" font-family=\"Helvetica,sans-Serif\" font-size=\"14.00\">class = p</text>\r\n",
       "</g>\r\n",
       "<!-- 3&#45;&gt;5 -->\r\n",
       "<g id=\"edge5\" class=\"edge\"><title>3&#45;&gt;5</title>\r\n",
       "<path fill=\"none\" stroke=\"black\" d=\"M151.133,-222.907C156.475,-214.105 162.18,-204.703 167.697,-195.612\"/>\r\n",
       "<polygon fill=\"black\" stroke=\"black\" points=\"170.715,-197.386 172.91,-187.021 164.73,-193.754 170.715,-197.386\"/>\r\n",
       "</g>\r\n",
       "<!-- 6 -->\r\n",
       "<g id=\"node7\" class=\"node\"><title>6</title>\r\n",
       "<path fill=\"#e58139\" stroke=\"black\" d=\"M178,-68C178,-68 97,-68 97,-68 91,-68 85,-62 85,-56 85,-56 85,-12 85,-12 85,-6 91,-0 97,-0 97,-0 178,-0 178,-0 184,-0 190,-6 190,-12 190,-12 190,-56 190,-56 190,-62 184,-68 178,-68\"/>\r\n",
       "<text text-anchor=\"start\" x=\"108.5\" y=\"-52.8\" font-family=\"Helvetica,sans-Serif\" font-size=\"14.00\">gini = 0.0</text>\r\n",
       "<text text-anchor=\"start\" x=\"94\" y=\"-37.8\" font-family=\"Helvetica,sans-Serif\" font-size=\"14.00\">samples = 35</text>\r\n",
       "<text text-anchor=\"start\" x=\"93\" y=\"-22.8\" font-family=\"Helvetica,sans-Serif\" font-size=\"14.00\">value = [35, 0]</text>\r\n",
       "<text text-anchor=\"start\" x=\"108.5\" y=\"-7.8\" font-family=\"Helvetica,sans-Serif\" font-size=\"14.00\">class = p</text>\r\n",
       "</g>\r\n",
       "<!-- 5&#45;&gt;6 -->\r\n",
       "<g id=\"edge6\" class=\"edge\"><title>5&#45;&gt;6</title>\r\n",
       "<path fill=\"none\" stroke=\"black\" d=\"M175.158,-103.726C170.41,-95.0615 165.388,-85.8962 160.612,-77.1802\"/>\r\n",
       "<polygon fill=\"black\" stroke=\"black\" points=\"163.621,-75.3875 155.746,-68.2996 157.482,-78.7513 163.621,-75.3875\"/>\r\n",
       "</g>\r\n",
       "<!-- 7 -->\r\n",
       "<g id=\"node8\" class=\"node\"><title>7</title>\r\n",
       "<path fill=\"#399de5\" stroke=\"black\" d=\"M293,-68C293,-68 220,-68 220,-68 214,-68 208,-62 208,-56 208,-56 208,-12 208,-12 208,-6 214,-0 220,-0 220,-0 293,-0 293,-0 299,-0 305,-6 305,-12 305,-12 305,-56 305,-56 305,-62 299,-68 293,-68\"/>\r\n",
       "<text text-anchor=\"start\" x=\"227.5\" y=\"-52.8\" font-family=\"Helvetica,sans-Serif\" font-size=\"14.00\">gini = 0.0</text>\r\n",
       "<text text-anchor=\"start\" x=\"217\" y=\"-37.8\" font-family=\"Helvetica,sans-Serif\" font-size=\"14.00\">samples = 2</text>\r\n",
       "<text text-anchor=\"start\" x=\"216\" y=\"-22.8\" font-family=\"Helvetica,sans-Serif\" font-size=\"14.00\">value = [0, 2]</text>\r\n",
       "<text text-anchor=\"start\" x=\"227.5\" y=\"-7.8\" font-family=\"Helvetica,sans-Serif\" font-size=\"14.00\">class = e</text>\r\n",
       "</g>\r\n",
       "<!-- 5&#45;&gt;7 -->\r\n",
       "<g id=\"edge7\" class=\"edge\"><title>5&#45;&gt;7</title>\r\n",
       "<path fill=\"none\" stroke=\"black\" d=\"M219.469,-103.726C224.138,-95.0615 229.076,-85.8962 233.773,-77.1802\"/>\r\n",
       "<polygon fill=\"black\" stroke=\"black\" points=\"236.896,-78.7632 238.558,-68.2996 230.733,-75.4428 236.896,-78.7632\"/>\r\n",
       "</g>\r\n",
       "<!-- 11 -->\r\n",
       "<g id=\"node12\" class=\"node\"><title>11</title>\r\n",
       "<path fill=\"#399de5\" stroke=\"black\" d=\"M499,-417.5C499,-417.5 418,-417.5 418,-417.5 412,-417.5 406,-411.5 406,-405.5 406,-405.5 406,-361.5 406,-361.5 406,-355.5 412,-349.5 418,-349.5 418,-349.5 499,-349.5 499,-349.5 505,-349.5 511,-355.5 511,-361.5 511,-361.5 511,-405.5 511,-405.5 511,-411.5 505,-417.5 499,-417.5\"/>\r\n",
       "<text text-anchor=\"start\" x=\"429.5\" y=\"-402.3\" font-family=\"Helvetica,sans-Serif\" font-size=\"14.00\">gini = 0.0</text>\r\n",
       "<text text-anchor=\"start\" x=\"415\" y=\"-387.3\" font-family=\"Helvetica,sans-Serif\" font-size=\"14.00\">samples = 22</text>\r\n",
       "<text text-anchor=\"start\" x=\"414\" y=\"-372.3\" font-family=\"Helvetica,sans-Serif\" font-size=\"14.00\">value = [0, 22]</text>\r\n",
       "<text text-anchor=\"start\" x=\"429.5\" y=\"-357.3\" font-family=\"Helvetica,sans-Serif\" font-size=\"14.00\">class = e</text>\r\n",
       "</g>\r\n",
       "<!-- 10&#45;&gt;11 -->\r\n",
       "<g id=\"edge11\" class=\"edge\"><title>10&#45;&gt;11</title>\r\n",
       "<path fill=\"none\" stroke=\"black\" d=\"M463.071,-460.907C462.431,-450.204 461.738,-438.615 461.089,-427.776\"/>\r\n",
       "<polygon fill=\"black\" stroke=\"black\" points=\"464.575,-427.44 460.484,-417.667 457.588,-427.858 464.575,-427.44\"/>\r\n",
       "</g>\r\n",
       "<!-- 12 -->\r\n",
       "<g id=\"node13\" class=\"node\"><title>12</title>\r\n",
       "<path fill=\"#e58139\" stroke=\"black\" d=\"M614,-417.5C614,-417.5 541,-417.5 541,-417.5 535,-417.5 529,-411.5 529,-405.5 529,-405.5 529,-361.5 529,-361.5 529,-355.5 535,-349.5 541,-349.5 541,-349.5 614,-349.5 614,-349.5 620,-349.5 626,-355.5 626,-361.5 626,-361.5 626,-405.5 626,-405.5 626,-411.5 620,-417.5 614,-417.5\"/>\r\n",
       "<text text-anchor=\"start\" x=\"548.5\" y=\"-402.3\" font-family=\"Helvetica,sans-Serif\" font-size=\"14.00\">gini = 0.0</text>\r\n",
       "<text text-anchor=\"start\" x=\"538\" y=\"-387.3\" font-family=\"Helvetica,sans-Serif\" font-size=\"14.00\">samples = 4</text>\r\n",
       "<text text-anchor=\"start\" x=\"537\" y=\"-372.3\" font-family=\"Helvetica,sans-Serif\" font-size=\"14.00\">value = [4, 0]</text>\r\n",
       "<text text-anchor=\"start\" x=\"548.5\" y=\"-357.3\" font-family=\"Helvetica,sans-Serif\" font-size=\"14.00\">class = p</text>\r\n",
       "</g>\r\n",
       "<!-- 10&#45;&gt;12 -->\r\n",
       "<g id=\"edge12\" class=\"edge\"><title>10&#45;&gt;12</title>\r\n",
       "<path fill=\"none\" stroke=\"black\" d=\"M504.358,-460.907C515.449,-449.321 527.533,-436.698 538.625,-425.111\"/>\r\n",
       "<polygon fill=\"black\" stroke=\"black\" points=\"541.364,-427.311 545.75,-417.667 536.307,-422.47 541.364,-427.311\"/>\r\n",
       "</g>\r\n",
       "</g>\r\n",
       "</svg>\r\n"
      ],
      "text/plain": [
       "<graphviz.files.Source at 0x2303dd895c8>"
      ]
     },
     "execution_count": 214,
     "metadata": {},
     "output_type": "execute_result"
    }
   ],
   "source": [
    "dot_data = tree.export_graphviz(clf2, out_file=None, \n",
    "                         feature_names=no_odor_preprocessed.columns,  \n",
    "                         class_names=['p','e'],  \n",
    "                         filled=True, rounded=True,  \n",
    "                         special_characters=True)  \n",
    "graph = graphviz.Source(dot_data)  \n",
    "graph\n",
    "#graph.format = 'png'\n",
    "#graph.render('dtree_render_small_data',view=True)"
   ]
  },
  {
   "cell_type": "markdown",
   "metadata": {},
   "source": [
    "#### With all data"
   ]
  },
  {
   "cell_type": "code",
   "execution_count": 215,
   "metadata": {},
   "outputs": [],
   "source": [
    "mushroom.drop(['class'],axis=1,inplace=True)\n",
    "mushroom_preprocessed = pd.get_dummies(mushroom)"
   ]
  },
  {
   "cell_type": "code",
   "execution_count": 216,
   "metadata": {},
   "outputs": [],
   "source": [
    "X_train, X_test, y_train, y_test = train_test_split(mushroom_preprocessed,y, test_size=0.3)"
   ]
  },
  {
   "cell_type": "code",
   "execution_count": 218,
   "metadata": {},
   "outputs": [],
   "source": [
    "clf = DecisionTreeClassifier()"
   ]
  },
  {
   "cell_type": "code",
   "execution_count": 219,
   "metadata": {},
   "outputs": [
    {
     "data": {
      "text/plain": [
       "DecisionTreeClassifier(class_weight=None, criterion='gini', max_depth=None,\n",
       "                       max_features=None, max_leaf_nodes=None,\n",
       "                       min_impurity_decrease=0.0, min_impurity_split=None,\n",
       "                       min_samples_leaf=1, min_samples_split=2,\n",
       "                       min_weight_fraction_leaf=0.0, presort=False,\n",
       "                       random_state=None, splitter='best')"
      ]
     },
     "execution_count": 219,
     "metadata": {},
     "output_type": "execute_result"
    }
   ],
   "source": [
    "clf.fit(X_train,y_train)"
   ]
  },
  {
   "cell_type": "code",
   "execution_count": 220,
   "metadata": {},
   "outputs": [
    {
     "data": {
      "image/svg+xml": [
       "<?xml version=\"1.0\" encoding=\"UTF-8\" standalone=\"no\"?>\r\n",
       "<!DOCTYPE svg PUBLIC \"-//W3C//DTD SVG 1.1//EN\"\r\n",
       " \"http://www.w3.org/Graphics/SVG/1.1/DTD/svg11.dtd\">\r\n",
       "<!-- Generated by graphviz version 2.38.0 (20140413.2041)\r\n",
       " -->\r\n",
       "<!-- Title: Tree Pages: 1 -->\r\n",
       "<svg width=\"1025pt\" height=\"909pt\"\r\n",
       " viewBox=\"0.00 0.00 1024.50 909.00\" xmlns=\"http://www.w3.org/2000/svg\" xmlns:xlink=\"http://www.w3.org/1999/xlink\">\r\n",
       "<g id=\"graph0\" class=\"graph\" transform=\"scale(1 1) rotate(0) translate(4 905)\">\r\n",
       "<title>Tree</title>\r\n",
       "<polygon fill=\"white\" stroke=\"none\" points=\"-4,4 -4,-905 1020.5,-905 1020.5,4 -4,4\"/>\r\n",
       "<!-- 0 -->\r\n",
       "<g id=\"node1\" class=\"node\"><title>0</title>\r\n",
       "<path fill=\"#fdf7f2\" stroke=\"black\" d=\"M652,-901C652,-901 530,-901 530,-901 524,-901 518,-895 518,-889 518,-889 518,-830 518,-830 518,-824 524,-818 530,-818 530,-818 652,-818 652,-818 658,-818 664,-824 664,-830 664,-830 664,-889 664,-889 664,-895 658,-901 652,-901\"/>\r\n",
       "<text text-anchor=\"start\" x=\"550.5\" y=\"-885.8\" font-family=\"Helvetica,sans-Serif\" font-size=\"14.00\">odor_n ≤ 0.5</text>\r\n",
       "<text text-anchor=\"start\" x=\"553.5\" y=\"-870.8\" font-family=\"Helvetica,sans-Serif\" font-size=\"14.00\">gini = 0.499</text>\r\n",
       "<text text-anchor=\"start\" x=\"539.5\" y=\"-855.8\" font-family=\"Helvetica,sans-Serif\" font-size=\"14.00\">samples = 5686</text>\r\n",
       "<text text-anchor=\"start\" x=\"526\" y=\"-840.8\" font-family=\"Helvetica,sans-Serif\" font-size=\"14.00\">value = [2939, 2747]</text>\r\n",
       "<text text-anchor=\"start\" x=\"562\" y=\"-825.8\" font-family=\"Helvetica,sans-Serif\" font-size=\"14.00\">class = p</text>\r\n",
       "</g>\r\n",
       "<!-- 1 -->\r\n",
       "<g id=\"node2\" class=\"node\"><title>1</title>\r\n",
       "<path fill=\"#62b2ea\" stroke=\"black\" d=\"M541,-782C541,-782 427,-782 427,-782 421,-782 415,-776 415,-770 415,-770 415,-711 415,-711 415,-705 421,-699 427,-699 427,-699 541,-699 541,-699 547,-699 553,-705 553,-711 553,-711 553,-770 553,-770 553,-776 547,-782 541,-782\"/>\r\n",
       "<text text-anchor=\"start\" x=\"429.5\" y=\"-766.8\" font-family=\"Helvetica,sans-Serif\" font-size=\"14.00\">stalk&#45;root_c ≤ 0.5</text>\r\n",
       "<text text-anchor=\"start\" x=\"446.5\" y=\"-751.8\" font-family=\"Helvetica,sans-Serif\" font-size=\"14.00\">gini = 0.286</text>\r\n",
       "<text text-anchor=\"start\" x=\"432.5\" y=\"-736.8\" font-family=\"Helvetica,sans-Serif\" font-size=\"14.00\">samples = 3219</text>\r\n",
       "<text text-anchor=\"start\" x=\"423\" y=\"-721.8\" font-family=\"Helvetica,sans-Serif\" font-size=\"14.00\">value = [557, 2662]</text>\r\n",
       "<text text-anchor=\"start\" x=\"455\" y=\"-706.8\" font-family=\"Helvetica,sans-Serif\" font-size=\"14.00\">class = e</text>\r\n",
       "</g>\r\n",
       "<!-- 0&#45;&gt;1 -->\r\n",
       "<g id=\"edge1\" class=\"edge\"><title>0&#45;&gt;1</title>\r\n",
       "<path fill=\"none\" stroke=\"black\" d=\"M553.877,-817.907C545.494,-808.742 536.518,-798.927 527.887,-789.489\"/>\r\n",
       "<polygon fill=\"black\" stroke=\"black\" points=\"530.389,-787.038 521.057,-782.021 525.223,-791.762 530.389,-787.038\"/>\r\n",
       "<text text-anchor=\"middle\" x=\"519.943\" y=\"-803.296\" font-family=\"Helvetica,sans-Serif\" font-size=\"14.00\">True</text>\r\n",
       "</g>\r\n",
       "<!-- 12 -->\r\n",
       "<g id=\"node13\" class=\"node\"><title>12</title>\r\n",
       "<path fill=\"#e68540\" stroke=\"black\" d=\"M770.5,-782C770.5,-782 625.5,-782 625.5,-782 619.5,-782 613.5,-776 613.5,-770 613.5,-770 613.5,-711 613.5,-711 613.5,-705 619.5,-699 625.5,-699 625.5,-699 770.5,-699 770.5,-699 776.5,-699 782.5,-705 782.5,-711 782.5,-711 782.5,-770 782.5,-770 782.5,-776 776.5,-782 770.5,-782\"/>\r\n",
       "<text text-anchor=\"start\" x=\"621.5\" y=\"-766.8\" font-family=\"Helvetica,sans-Serif\" font-size=\"14.00\">spore&#45;print&#45;color_r ≤ 0.5</text>\r\n",
       "<text text-anchor=\"start\" x=\"660.5\" y=\"-751.8\" font-family=\"Helvetica,sans-Serif\" font-size=\"14.00\">gini = 0.067</text>\r\n",
       "<text text-anchor=\"start\" x=\"646.5\" y=\"-736.8\" font-family=\"Helvetica,sans-Serif\" font-size=\"14.00\">samples = 2467</text>\r\n",
       "<text text-anchor=\"start\" x=\"641\" y=\"-721.8\" font-family=\"Helvetica,sans-Serif\" font-size=\"14.00\">value = [2382, 85]</text>\r\n",
       "<text text-anchor=\"start\" x=\"669\" y=\"-706.8\" font-family=\"Helvetica,sans-Serif\" font-size=\"14.00\">class = p</text>\r\n",
       "</g>\r\n",
       "<!-- 0&#45;&gt;12 -->\r\n",
       "<g id=\"edge12\" class=\"edge\"><title>0&#45;&gt;12</title>\r\n",
       "<path fill=\"none\" stroke=\"black\" d=\"M628.123,-817.907C636.506,-808.742 645.482,-798.927 654.113,-789.489\"/>\r\n",
       "<polygon fill=\"black\" stroke=\"black\" points=\"656.777,-791.762 660.943,-782.021 651.611,-787.038 656.777,-791.762\"/>\r\n",
       "<text text-anchor=\"middle\" x=\"662.057\" y=\"-803.296\" font-family=\"Helvetica,sans-Serif\" font-size=\"14.00\">False</text>\r\n",
       "</g>\r\n",
       "<!-- 2 -->\r\n",
       "<g id=\"node3\" class=\"node\"><title>2</title>\r\n",
       "<path fill=\"#48a4e7\" stroke=\"black\" d=\"M366.5,-663C366.5,-663 173.5,-663 173.5,-663 167.5,-663 161.5,-657 161.5,-651 161.5,-651 161.5,-592 161.5,-592 161.5,-586 167.5,-580 173.5,-580 173.5,-580 366.5,-580 366.5,-580 372.5,-580 378.5,-586 378.5,-592 378.5,-592 378.5,-651 378.5,-651 378.5,-657 372.5,-663 366.5,-663\"/>\r\n",
       "<text text-anchor=\"start\" x=\"169.5\" y=\"-647.8\" font-family=\"Helvetica,sans-Serif\" font-size=\"14.00\">stalk&#45;surface&#45;below&#45;ring_y ≤ 0.5</text>\r\n",
       "<text text-anchor=\"start\" x=\"232.5\" y=\"-632.8\" font-family=\"Helvetica,sans-Serif\" font-size=\"14.00\">gini = 0.131</text>\r\n",
       "<text text-anchor=\"start\" x=\"218.5\" y=\"-617.8\" font-family=\"Helvetica,sans-Serif\" font-size=\"14.00\">samples = 2840</text>\r\n",
       "<text text-anchor=\"start\" x=\"209\" y=\"-602.8\" font-family=\"Helvetica,sans-Serif\" font-size=\"14.00\">value = [200, 2640]</text>\r\n",
       "<text text-anchor=\"start\" x=\"241\" y=\"-587.8\" font-family=\"Helvetica,sans-Serif\" font-size=\"14.00\">class = e</text>\r\n",
       "</g>\r\n",
       "<!-- 1&#45;&gt;2 -->\r\n",
       "<g id=\"edge2\" class=\"edge\"><title>1&#45;&gt;2</title>\r\n",
       "<path fill=\"none\" stroke=\"black\" d=\"M414.816,-701.675C395.137,-690.916 373.499,-679.086 353.085,-667.925\"/>\r\n",
       "<polygon fill=\"black\" stroke=\"black\" points=\"354.567,-664.746 344.113,-663.02 351.208,-670.888 354.567,-664.746\"/>\r\n",
       "</g>\r\n",
       "<!-- 9 -->\r\n",
       "<g id=\"node10\" class=\"node\"><title>9</title>\r\n",
       "<path fill=\"#e78945\" stroke=\"black\" d=\"M559,-663C559,-663 409,-663 409,-663 403,-663 397,-657 397,-651 397,-651 397,-592 397,-592 397,-586 403,-580 409,-580 409,-580 559,-580 559,-580 565,-580 571,-586 571,-592 571,-592 571,-651 571,-651 571,-657 565,-663 559,-663\"/>\r\n",
       "<text text-anchor=\"start\" x=\"405\" y=\"-647.8\" font-family=\"Helvetica,sans-Serif\" font-size=\"14.00\">spore&#45;print&#45;color_w ≤ 0.5</text>\r\n",
       "<text text-anchor=\"start\" x=\"446.5\" y=\"-632.8\" font-family=\"Helvetica,sans-Serif\" font-size=\"14.00\">gini = 0.109</text>\r\n",
       "<text text-anchor=\"start\" x=\"436.5\" y=\"-617.8\" font-family=\"Helvetica,sans-Serif\" font-size=\"14.00\">samples = 379</text>\r\n",
       "<text text-anchor=\"start\" x=\"431\" y=\"-602.8\" font-family=\"Helvetica,sans-Serif\" font-size=\"14.00\">value = [357, 22]</text>\r\n",
       "<text text-anchor=\"start\" x=\"455\" y=\"-587.8\" font-family=\"Helvetica,sans-Serif\" font-size=\"14.00\">class = p</text>\r\n",
       "</g>\r\n",
       "<!-- 1&#45;&gt;9 -->\r\n",
       "<g id=\"edge9\" class=\"edge\"><title>1&#45;&gt;9</title>\r\n",
       "<path fill=\"none\" stroke=\"black\" d=\"M484,-698.907C484,-690.649 484,-681.864 484,-673.302\"/>\r\n",
       "<polygon fill=\"black\" stroke=\"black\" points=\"487.5,-673.021 484,-663.021 480.5,-673.021 487.5,-673.021\"/>\r\n",
       "</g>\r\n",
       "<!-- 3 -->\r\n",
       "<g id=\"node4\" class=\"node\"><title>3</title>\r\n",
       "<path fill=\"#3ea0e6\" stroke=\"black\" d=\"M187.5,-544C187.5,-544 70.5,-544 70.5,-544 64.5,-544 58.5,-538 58.5,-532 58.5,-532 58.5,-473 58.5,-473 58.5,-467 64.5,-461 70.5,-461 70.5,-461 187.5,-461 187.5,-461 193.5,-461 199.5,-467 199.5,-473 199.5,-473 199.5,-532 199.5,-532 199.5,-538 193.5,-544 187.5,-544\"/>\r\n",
       "<text text-anchor=\"start\" x=\"66.5\" y=\"-528.8\" font-family=\"Helvetica,sans-Serif\" font-size=\"14.00\">gill&#45;spacing_w ≤ 0.5</text>\r\n",
       "<text text-anchor=\"start\" x=\"91.5\" y=\"-513.8\" font-family=\"Helvetica,sans-Serif\" font-size=\"14.00\">gini = 0.052</text>\r\n",
       "<text text-anchor=\"start\" x=\"77.5\" y=\"-498.8\" font-family=\"Helvetica,sans-Serif\" font-size=\"14.00\">samples = 2712</text>\r\n",
       "<text text-anchor=\"start\" x=\"72\" y=\"-483.8\" font-family=\"Helvetica,sans-Serif\" font-size=\"14.00\">value = [72, 2640]</text>\r\n",
       "<text text-anchor=\"start\" x=\"100\" y=\"-468.8\" font-family=\"Helvetica,sans-Serif\" font-size=\"14.00\">class = e</text>\r\n",
       "</g>\r\n",
       "<!-- 2&#45;&gt;3 -->\r\n",
       "<g id=\"edge3\" class=\"edge\"><title>2&#45;&gt;3</title>\r\n",
       "<path fill=\"none\" stroke=\"black\" d=\"M221.081,-579.907C209.707,-570.469 197.503,-560.343 185.821,-550.649\"/>\r\n",
       "<polygon fill=\"black\" stroke=\"black\" points=\"187.763,-547.713 177.833,-544.021 183.293,-553.1 187.763,-547.713\"/>\r\n",
       "</g>\r\n",
       "<!-- 8 -->\r\n",
       "<g id=\"node9\" class=\"node\"><title>8</title>\r\n",
       "<path fill=\"#e58139\" stroke=\"black\" d=\"M318.5,-536.5C318.5,-536.5 229.5,-536.5 229.5,-536.5 223.5,-536.5 217.5,-530.5 217.5,-524.5 217.5,-524.5 217.5,-480.5 217.5,-480.5 217.5,-474.5 223.5,-468.5 229.5,-468.5 229.5,-468.5 318.5,-468.5 318.5,-468.5 324.5,-468.5 330.5,-474.5 330.5,-480.5 330.5,-480.5 330.5,-524.5 330.5,-524.5 330.5,-530.5 324.5,-536.5 318.5,-536.5\"/>\r\n",
       "<text text-anchor=\"start\" x=\"245\" y=\"-521.3\" font-family=\"Helvetica,sans-Serif\" font-size=\"14.00\">gini = 0.0</text>\r\n",
       "<text text-anchor=\"start\" x=\"226.5\" y=\"-506.3\" font-family=\"Helvetica,sans-Serif\" font-size=\"14.00\">samples = 128</text>\r\n",
       "<text text-anchor=\"start\" x=\"225.5\" y=\"-491.3\" font-family=\"Helvetica,sans-Serif\" font-size=\"14.00\">value = [128, 0]</text>\r\n",
       "<text text-anchor=\"start\" x=\"245\" y=\"-476.3\" font-family=\"Helvetica,sans-Serif\" font-size=\"14.00\">class = p</text>\r\n",
       "</g>\r\n",
       "<!-- 2&#45;&gt;8 -->\r\n",
       "<g id=\"edge8\" class=\"edge\"><title>2&#45;&gt;8</title>\r\n",
       "<path fill=\"none\" stroke=\"black\" d=\"M271.388,-579.907C271.754,-569.204 272.15,-557.615 272.52,-546.776\"/>\r\n",
       "<polygon fill=\"black\" stroke=\"black\" points=\"276.022,-546.781 272.866,-536.667 269.026,-546.541 276.022,-546.781\"/>\r\n",
       "</g>\r\n",
       "<!-- 4 -->\r\n",
       "<g id=\"node5\" class=\"node\"><title>4</title>\r\n",
       "<path fill=\"#399de5\" stroke=\"black\" d=\"M110,-417.5C110,-417.5 12,-417.5 12,-417.5 6,-417.5 7.10543e-015,-411.5 7.10543e-015,-405.5 7.10543e-015,-405.5 7.10543e-015,-361.5 7.10543e-015,-361.5 7.10543e-015,-355.5 6,-349.5 12,-349.5 12,-349.5 110,-349.5 110,-349.5 116,-349.5 122,-355.5 122,-361.5 122,-361.5 122,-405.5 122,-405.5 122,-411.5 116,-417.5 110,-417.5\"/>\r\n",
       "<text text-anchor=\"start\" x=\"32\" y=\"-402.3\" font-family=\"Helvetica,sans-Serif\" font-size=\"14.00\">gini = 0.0</text>\r\n",
       "<text text-anchor=\"start\" x=\"9.5\" y=\"-387.3\" font-family=\"Helvetica,sans-Serif\" font-size=\"14.00\">samples = 2579</text>\r\n",
       "<text text-anchor=\"start\" x=\"8\" y=\"-372.3\" font-family=\"Helvetica,sans-Serif\" font-size=\"14.00\">value = [0, 2579]</text>\r\n",
       "<text text-anchor=\"start\" x=\"32\" y=\"-357.3\" font-family=\"Helvetica,sans-Serif\" font-size=\"14.00\">class = e</text>\r\n",
       "</g>\r\n",
       "<!-- 3&#45;&gt;4 -->\r\n",
       "<g id=\"edge4\" class=\"edge\"><title>3&#45;&gt;4</title>\r\n",
       "<path fill=\"none\" stroke=\"black\" d=\"M105.408,-460.907C98.9304,-449.763 91.8953,-437.658 85.3749,-426.439\"/>\r\n",
       "<polygon fill=\"black\" stroke=\"black\" points=\"88.3275,-424.554 80.2765,-417.667 82.2754,-428.072 88.3275,-424.554\"/>\r\n",
       "</g>\r\n",
       "<!-- 5 -->\r\n",
       "<g id=\"node6\" class=\"node\"><title>5</title>\r\n",
       "<path fill=\"#fbece1\" stroke=\"black\" d=\"M241.5,-425C241.5,-425 152.5,-425 152.5,-425 146.5,-425 140.5,-419 140.5,-413 140.5,-413 140.5,-354 140.5,-354 140.5,-348 146.5,-342 152.5,-342 152.5,-342 241.5,-342 241.5,-342 247.5,-342 253.5,-348 253.5,-354 253.5,-354 253.5,-413 253.5,-413 253.5,-419 247.5,-425 241.5,-425\"/>\r\n",
       "<text text-anchor=\"start\" x=\"150\" y=\"-409.8\" font-family=\"Helvetica,sans-Serif\" font-size=\"14.00\">bruises_t ≤ 0.5</text>\r\n",
       "<text text-anchor=\"start\" x=\"159.5\" y=\"-394.8\" font-family=\"Helvetica,sans-Serif\" font-size=\"14.00\">gini = 0.497</text>\r\n",
       "<text text-anchor=\"start\" x=\"149.5\" y=\"-379.8\" font-family=\"Helvetica,sans-Serif\" font-size=\"14.00\">samples = 133</text>\r\n",
       "<text text-anchor=\"start\" x=\"148.5\" y=\"-364.8\" font-family=\"Helvetica,sans-Serif\" font-size=\"14.00\">value = [72, 61]</text>\r\n",
       "<text text-anchor=\"start\" x=\"168\" y=\"-349.8\" font-family=\"Helvetica,sans-Serif\" font-size=\"14.00\">class = p</text>\r\n",
       "</g>\r\n",
       "<!-- 3&#45;&gt;5 -->\r\n",
       "<g id=\"edge5\" class=\"edge\"><title>3&#45;&gt;5</title>\r\n",
       "<path fill=\"none\" stroke=\"black\" d=\"M152.592,-460.907C157.656,-452.195 163.06,-442.897 168.293,-433.893\"/>\r\n",
       "<polygon fill=\"black\" stroke=\"black\" points=\"171.451,-435.425 173.449,-425.021 165.398,-431.908 171.451,-435.425\"/>\r\n",
       "</g>\r\n",
       "<!-- 6 -->\r\n",
       "<g id=\"node7\" class=\"node\"><title>6</title>\r\n",
       "<path fill=\"#399de5\" stroke=\"black\" d=\"M175.5,-298.5C175.5,-298.5 94.5,-298.5 94.5,-298.5 88.5,-298.5 82.5,-292.5 82.5,-286.5 82.5,-286.5 82.5,-242.5 82.5,-242.5 82.5,-236.5 88.5,-230.5 94.5,-230.5 94.5,-230.5 175.5,-230.5 175.5,-230.5 181.5,-230.5 187.5,-236.5 187.5,-242.5 187.5,-242.5 187.5,-286.5 187.5,-286.5 187.5,-292.5 181.5,-298.5 175.5,-298.5\"/>\r\n",
       "<text text-anchor=\"start\" x=\"106\" y=\"-283.3\" font-family=\"Helvetica,sans-Serif\" font-size=\"14.00\">gini = 0.0</text>\r\n",
       "<text text-anchor=\"start\" x=\"91.5\" y=\"-268.3\" font-family=\"Helvetica,sans-Serif\" font-size=\"14.00\">samples = 61</text>\r\n",
       "<text text-anchor=\"start\" x=\"90.5\" y=\"-253.3\" font-family=\"Helvetica,sans-Serif\" font-size=\"14.00\">value = [0, 61]</text>\r\n",
       "<text text-anchor=\"start\" x=\"106\" y=\"-238.3\" font-family=\"Helvetica,sans-Serif\" font-size=\"14.00\">class = e</text>\r\n",
       "</g>\r\n",
       "<!-- 5&#45;&gt;6 -->\r\n",
       "<g id=\"edge6\" class=\"edge\"><title>5&#45;&gt;6</title>\r\n",
       "<path fill=\"none\" stroke=\"black\" d=\"M175.489,-341.907C169.642,-330.873 163.296,-318.898 157.401,-307.773\"/>\r\n",
       "<polygon fill=\"black\" stroke=\"black\" points=\"160.351,-305.864 152.576,-298.667 154.165,-309.142 160.351,-305.864\"/>\r\n",
       "</g>\r\n",
       "<!-- 7 -->\r\n",
       "<g id=\"node8\" class=\"node\"><title>7</title>\r\n",
       "<path fill=\"#e58139\" stroke=\"black\" d=\"M298.5,-298.5C298.5,-298.5 217.5,-298.5 217.5,-298.5 211.5,-298.5 205.5,-292.5 205.5,-286.5 205.5,-286.5 205.5,-242.5 205.5,-242.5 205.5,-236.5 211.5,-230.5 217.5,-230.5 217.5,-230.5 298.5,-230.5 298.5,-230.5 304.5,-230.5 310.5,-236.5 310.5,-242.5 310.5,-242.5 310.5,-286.5 310.5,-286.5 310.5,-292.5 304.5,-298.5 298.5,-298.5\"/>\r\n",
       "<text text-anchor=\"start\" x=\"229\" y=\"-283.3\" font-family=\"Helvetica,sans-Serif\" font-size=\"14.00\">gini = 0.0</text>\r\n",
       "<text text-anchor=\"start\" x=\"214.5\" y=\"-268.3\" font-family=\"Helvetica,sans-Serif\" font-size=\"14.00\">samples = 72</text>\r\n",
       "<text text-anchor=\"start\" x=\"213.5\" y=\"-253.3\" font-family=\"Helvetica,sans-Serif\" font-size=\"14.00\">value = [72, 0]</text>\r\n",
       "<text text-anchor=\"start\" x=\"229\" y=\"-238.3\" font-family=\"Helvetica,sans-Serif\" font-size=\"14.00\">class = p</text>\r\n",
       "</g>\r\n",
       "<!-- 5&#45;&gt;7 -->\r\n",
       "<g id=\"edge7\" class=\"edge\"><title>5&#45;&gt;7</title>\r\n",
       "<path fill=\"none\" stroke=\"black\" d=\"M218.164,-341.907C223.917,-330.873 230.16,-318.898 235.96,-307.773\"/>\r\n",
       "<polygon fill=\"black\" stroke=\"black\" points=\"239.188,-309.152 240.708,-298.667 232.981,-305.916 239.188,-309.152\"/>\r\n",
       "</g>\r\n",
       "<!-- 10 -->\r\n",
       "<g id=\"node11\" class=\"node\"><title>10</title>\r\n",
       "<path fill=\"#e58139\" stroke=\"black\" d=\"M463.5,-536.5C463.5,-536.5 374.5,-536.5 374.5,-536.5 368.5,-536.5 362.5,-530.5 362.5,-524.5 362.5,-524.5 362.5,-480.5 362.5,-480.5 362.5,-474.5 368.5,-468.5 374.5,-468.5 374.5,-468.5 463.5,-468.5 463.5,-468.5 469.5,-468.5 475.5,-474.5 475.5,-480.5 475.5,-480.5 475.5,-524.5 475.5,-524.5 475.5,-530.5 469.5,-536.5 463.5,-536.5\"/>\r\n",
       "<text text-anchor=\"start\" x=\"390\" y=\"-521.3\" font-family=\"Helvetica,sans-Serif\" font-size=\"14.00\">gini = 0.0</text>\r\n",
       "<text text-anchor=\"start\" x=\"371.5\" y=\"-506.3\" font-family=\"Helvetica,sans-Serif\" font-size=\"14.00\">samples = 357</text>\r\n",
       "<text text-anchor=\"start\" x=\"370.5\" y=\"-491.3\" font-family=\"Helvetica,sans-Serif\" font-size=\"14.00\">value = [357, 0]</text>\r\n",
       "<text text-anchor=\"start\" x=\"390\" y=\"-476.3\" font-family=\"Helvetica,sans-Serif\" font-size=\"14.00\">class = p</text>\r\n",
       "</g>\r\n",
       "<!-- 9&#45;&gt;10 -->\r\n",
       "<g id=\"edge10\" class=\"edge\"><title>9&#45;&gt;10</title>\r\n",
       "<path fill=\"none\" stroke=\"black\" d=\"M461.449,-579.907C455.257,-568.763 448.532,-556.658 442.3,-545.439\"/>\r\n",
       "<polygon fill=\"black\" stroke=\"black\" points=\"445.342,-543.709 437.426,-536.667 439.223,-547.108 445.342,-543.709\"/>\r\n",
       "</g>\r\n",
       "<!-- 11 -->\r\n",
       "<g id=\"node12\" class=\"node\"><title>11</title>\r\n",
       "<path fill=\"#399de5\" stroke=\"black\" d=\"M586.5,-536.5C586.5,-536.5 505.5,-536.5 505.5,-536.5 499.5,-536.5 493.5,-530.5 493.5,-524.5 493.5,-524.5 493.5,-480.5 493.5,-480.5 493.5,-474.5 499.5,-468.5 505.5,-468.5 505.5,-468.5 586.5,-468.5 586.5,-468.5 592.5,-468.5 598.5,-474.5 598.5,-480.5 598.5,-480.5 598.5,-524.5 598.5,-524.5 598.5,-530.5 592.5,-536.5 586.5,-536.5\"/>\r\n",
       "<text text-anchor=\"start\" x=\"517\" y=\"-521.3\" font-family=\"Helvetica,sans-Serif\" font-size=\"14.00\">gini = 0.0</text>\r\n",
       "<text text-anchor=\"start\" x=\"502.5\" y=\"-506.3\" font-family=\"Helvetica,sans-Serif\" font-size=\"14.00\">samples = 22</text>\r\n",
       "<text text-anchor=\"start\" x=\"501.5\" y=\"-491.3\" font-family=\"Helvetica,sans-Serif\" font-size=\"14.00\">value = [0, 22]</text>\r\n",
       "<text text-anchor=\"start\" x=\"517\" y=\"-476.3\" font-family=\"Helvetica,sans-Serif\" font-size=\"14.00\">class = e</text>\r\n",
       "</g>\r\n",
       "<!-- 9&#45;&gt;11 -->\r\n",
       "<g id=\"edge11\" class=\"edge\"><title>9&#45;&gt;11</title>\r\n",
       "<path fill=\"none\" stroke=\"black\" d=\"M505.511,-579.907C511.358,-568.873 517.704,-556.898 523.599,-545.773\"/>\r\n",
       "<polygon fill=\"black\" stroke=\"black\" points=\"526.835,-547.142 528.424,-536.667 520.649,-543.864 526.835,-547.142\"/>\r\n",
       "</g>\r\n",
       "<!-- 13 -->\r\n",
       "<g id=\"node14\" class=\"node\"><title>13</title>\r\n",
       "<path fill=\"#e5833c\" stroke=\"black\" d=\"M794.5,-663C794.5,-663 601.5,-663 601.5,-663 595.5,-663 589.5,-657 589.5,-651 589.5,-651 589.5,-592 589.5,-592 589.5,-586 595.5,-580 601.5,-580 601.5,-580 794.5,-580 794.5,-580 800.5,-580 806.5,-586 806.5,-592 806.5,-592 806.5,-651 806.5,-651 806.5,-657 800.5,-663 794.5,-663\"/>\r\n",
       "<text text-anchor=\"start\" x=\"597.5\" y=\"-647.8\" font-family=\"Helvetica,sans-Serif\" font-size=\"14.00\">stalk&#45;surface&#45;below&#45;ring_y ≤ 0.5</text>\r\n",
       "<text text-anchor=\"start\" x=\"664.5\" y=\"-632.8\" font-family=\"Helvetica,sans-Serif\" font-size=\"14.00\">gini = 0.03</text>\r\n",
       "<text text-anchor=\"start\" x=\"646.5\" y=\"-617.8\" font-family=\"Helvetica,sans-Serif\" font-size=\"14.00\">samples = 2419</text>\r\n",
       "<text text-anchor=\"start\" x=\"641\" y=\"-602.8\" font-family=\"Helvetica,sans-Serif\" font-size=\"14.00\">value = [2382, 37]</text>\r\n",
       "<text text-anchor=\"start\" x=\"669\" y=\"-587.8\" font-family=\"Helvetica,sans-Serif\" font-size=\"14.00\">class = p</text>\r\n",
       "</g>\r\n",
       "<!-- 12&#45;&gt;13 -->\r\n",
       "<g id=\"edge13\" class=\"edge\"><title>12&#45;&gt;13</title>\r\n",
       "<path fill=\"none\" stroke=\"black\" d=\"M698,-698.907C698,-690.649 698,-681.864 698,-673.302\"/>\r\n",
       "<polygon fill=\"black\" stroke=\"black\" points=\"701.5,-673.021 698,-663.021 694.5,-673.021 701.5,-673.021\"/>\r\n",
       "</g>\r\n",
       "<!-- 26 -->\r\n",
       "<g id=\"node27\" class=\"node\"><title>26</title>\r\n",
       "<path fill=\"#399de5\" stroke=\"black\" d=\"M917.5,-655.5C917.5,-655.5 836.5,-655.5 836.5,-655.5 830.5,-655.5 824.5,-649.5 824.5,-643.5 824.5,-643.5 824.5,-599.5 824.5,-599.5 824.5,-593.5 830.5,-587.5 836.5,-587.5 836.5,-587.5 917.5,-587.5 917.5,-587.5 923.5,-587.5 929.5,-593.5 929.5,-599.5 929.5,-599.5 929.5,-643.5 929.5,-643.5 929.5,-649.5 923.5,-655.5 917.5,-655.5\"/>\r\n",
       "<text text-anchor=\"start\" x=\"848\" y=\"-640.3\" font-family=\"Helvetica,sans-Serif\" font-size=\"14.00\">gini = 0.0</text>\r\n",
       "<text text-anchor=\"start\" x=\"833.5\" y=\"-625.3\" font-family=\"Helvetica,sans-Serif\" font-size=\"14.00\">samples = 48</text>\r\n",
       "<text text-anchor=\"start\" x=\"832.5\" y=\"-610.3\" font-family=\"Helvetica,sans-Serif\" font-size=\"14.00\">value = [0, 48]</text>\r\n",
       "<text text-anchor=\"start\" x=\"848\" y=\"-595.3\" font-family=\"Helvetica,sans-Serif\" font-size=\"14.00\">class = e</text>\r\n",
       "</g>\r\n",
       "<!-- 12&#45;&gt;26 -->\r\n",
       "<g id=\"edge26\" class=\"edge\"><title>12&#45;&gt;26</title>\r\n",
       "<path fill=\"none\" stroke=\"black\" d=\"M760.103,-698.907C778.758,-686.714 799.169,-673.373 817.642,-661.298\"/>\r\n",
       "<polygon fill=\"black\" stroke=\"black\" points=\"819.802,-664.068 826.257,-655.667 815.972,-658.209 819.802,-664.068\"/>\r\n",
       "</g>\r\n",
       "<!-- 14 -->\r\n",
       "<g id=\"node15\" class=\"node\"><title>14</title>\r\n",
       "<path fill=\"#e5813a\" stroke=\"black\" d=\"M754.5,-544C754.5,-544 635.5,-544 635.5,-544 629.5,-544 623.5,-538 623.5,-532 623.5,-532 623.5,-473 623.5,-473 623.5,-467 629.5,-461 635.5,-461 635.5,-461 754.5,-461 754.5,-461 760.5,-461 766.5,-467 766.5,-473 766.5,-473 766.5,-532 766.5,-532 766.5,-538 760.5,-544 754.5,-544\"/>\r\n",
       "<text text-anchor=\"start\" x=\"631.5\" y=\"-528.8\" font-family=\"Helvetica,sans-Serif\" font-size=\"14.00\">cap&#45;surface_g ≤ 0.5</text>\r\n",
       "<text text-anchor=\"start\" x=\"657.5\" y=\"-513.8\" font-family=\"Helvetica,sans-Serif\" font-size=\"14.00\">gini = 0.006</text>\r\n",
       "<text text-anchor=\"start\" x=\"643.5\" y=\"-498.8\" font-family=\"Helvetica,sans-Serif\" font-size=\"14.00\">samples = 2376</text>\r\n",
       "<text text-anchor=\"start\" x=\"642\" y=\"-483.8\" font-family=\"Helvetica,sans-Serif\" font-size=\"14.00\">value = [2369, 7]</text>\r\n",
       "<text text-anchor=\"start\" x=\"666\" y=\"-468.8\" font-family=\"Helvetica,sans-Serif\" font-size=\"14.00\">class = p</text>\r\n",
       "</g>\r\n",
       "<!-- 13&#45;&gt;14 -->\r\n",
       "<g id=\"edge14\" class=\"edge\"><title>13&#45;&gt;14</title>\r\n",
       "<path fill=\"none\" stroke=\"black\" d=\"M696.959,-579.907C696.745,-571.558 696.517,-562.671 696.295,-554.02\"/>\r\n",
       "<polygon fill=\"black\" stroke=\"black\" points=\"699.794,-553.928 696.039,-544.021 692.797,-554.107 699.794,-553.928\"/>\r\n",
       "</g>\r\n",
       "<!-- 23 -->\r\n",
       "<g id=\"node24\" class=\"node\"><title>23</title>\r\n",
       "<path fill=\"#8fc7f0\" stroke=\"black\" d=\"M905,-544C905,-544 797,-544 797,-544 791,-544 785,-538 785,-532 785,-532 785,-473 785,-473 785,-467 791,-461 797,-461 797,-461 905,-461 905,-461 911,-461 917,-467 917,-473 917,-473 917,-532 917,-532 917,-538 911,-544 905,-544\"/>\r\n",
       "<text text-anchor=\"start\" x=\"793\" y=\"-528.8\" font-family=\"Helvetica,sans-Serif\" font-size=\"14.00\">population_y ≤ 0.5</text>\r\n",
       "<text text-anchor=\"start\" x=\"813.5\" y=\"-513.8\" font-family=\"Helvetica,sans-Serif\" font-size=\"14.00\">gini = 0.422</text>\r\n",
       "<text text-anchor=\"start\" x=\"807.5\" y=\"-498.8\" font-family=\"Helvetica,sans-Serif\" font-size=\"14.00\">samples = 43</text>\r\n",
       "<text text-anchor=\"start\" x=\"802.5\" y=\"-483.8\" font-family=\"Helvetica,sans-Serif\" font-size=\"14.00\">value = [13, 30]</text>\r\n",
       "<text text-anchor=\"start\" x=\"822\" y=\"-468.8\" font-family=\"Helvetica,sans-Serif\" font-size=\"14.00\">class = e</text>\r\n",
       "</g>\r\n",
       "<!-- 13&#45;&gt;23 -->\r\n",
       "<g id=\"edge23\" class=\"edge\"><title>13&#45;&gt;23</title>\r\n",
       "<path fill=\"none\" stroke=\"black\" d=\"M751.083,-579.907C763.543,-570.379 776.922,-560.148 789.709,-550.37\"/>\r\n",
       "<polygon fill=\"black\" stroke=\"black\" points=\"792.194,-552.876 798.011,-544.021 787.942,-547.315 792.194,-552.876\"/>\r\n",
       "</g>\r\n",
       "<!-- 15 -->\r\n",
       "<g id=\"node16\" class=\"node\"><title>15</title>\r\n",
       "<path fill=\"#e58139\" stroke=\"black\" d=\"M625,-425C625,-425 515,-425 515,-425 509,-425 503,-419 503,-413 503,-413 503,-354 503,-354 503,-348 509,-342 515,-342 515,-342 625,-342 625,-342 631,-342 637,-348 637,-354 637,-354 637,-413 637,-413 637,-419 631,-425 625,-425\"/>\r\n",
       "<text text-anchor=\"start\" x=\"511\" y=\"-409.8\" font-family=\"Helvetica,sans-Serif\" font-size=\"14.00\">cap&#45;shape_c ≤ 0.5</text>\r\n",
       "<text text-anchor=\"start\" x=\"532.5\" y=\"-394.8\" font-family=\"Helvetica,sans-Serif\" font-size=\"14.00\">gini = 0.003</text>\r\n",
       "<text text-anchor=\"start\" x=\"518.5\" y=\"-379.8\" font-family=\"Helvetica,sans-Serif\" font-size=\"14.00\">samples = 2372</text>\r\n",
       "<text text-anchor=\"start\" x=\"517\" y=\"-364.8\" font-family=\"Helvetica,sans-Serif\" font-size=\"14.00\">value = [2369, 3]</text>\r\n",
       "<text text-anchor=\"start\" x=\"541\" y=\"-349.8\" font-family=\"Helvetica,sans-Serif\" font-size=\"14.00\">class = p</text>\r\n",
       "</g>\r\n",
       "<!-- 14&#45;&gt;15 -->\r\n",
       "<g id=\"edge15\" class=\"edge\"><title>14&#45;&gt;15</title>\r\n",
       "<path fill=\"none\" stroke=\"black\" d=\"M651.632,-460.907C641.645,-451.56 630.938,-441.538 620.672,-431.929\"/>\r\n",
       "<polygon fill=\"black\" stroke=\"black\" points=\"622.984,-429.299 613.291,-425.021 618.201,-434.41 622.984,-429.299\"/>\r\n",
       "</g>\r\n",
       "<!-- 22 -->\r\n",
       "<g id=\"node23\" class=\"node\"><title>22</title>\r\n",
       "<path fill=\"#399de5\" stroke=\"black\" d=\"M740.5,-417.5C740.5,-417.5 667.5,-417.5 667.5,-417.5 661.5,-417.5 655.5,-411.5 655.5,-405.5 655.5,-405.5 655.5,-361.5 655.5,-361.5 655.5,-355.5 661.5,-349.5 667.5,-349.5 667.5,-349.5 740.5,-349.5 740.5,-349.5 746.5,-349.5 752.5,-355.5 752.5,-361.5 752.5,-361.5 752.5,-405.5 752.5,-405.5 752.5,-411.5 746.5,-417.5 740.5,-417.5\"/>\r\n",
       "<text text-anchor=\"start\" x=\"675\" y=\"-402.3\" font-family=\"Helvetica,sans-Serif\" font-size=\"14.00\">gini = 0.0</text>\r\n",
       "<text text-anchor=\"start\" x=\"664.5\" y=\"-387.3\" font-family=\"Helvetica,sans-Serif\" font-size=\"14.00\">samples = 4</text>\r\n",
       "<text text-anchor=\"start\" x=\"663.5\" y=\"-372.3\" font-family=\"Helvetica,sans-Serif\" font-size=\"14.00\">value = [0, 4]</text>\r\n",
       "<text text-anchor=\"start\" x=\"675\" y=\"-357.3\" font-family=\"Helvetica,sans-Serif\" font-size=\"14.00\">class = e</text>\r\n",
       "</g>\r\n",
       "<!-- 14&#45;&gt;22 -->\r\n",
       "<g id=\"edge22\" class=\"edge\"><title>14&#45;&gt;22</title>\r\n",
       "<path fill=\"none\" stroke=\"black\" d=\"M698.123,-460.907C698.946,-450.204 699.837,-438.615 700.671,-427.776\"/>\r\n",
       "<polygon fill=\"black\" stroke=\"black\" points=\"704.171,-427.906 701.449,-417.667 697.192,-427.369 704.171,-427.906\"/>\r\n",
       "</g>\r\n",
       "<!-- 16 -->\r\n",
       "<g id=\"node17\" class=\"node\"><title>16</title>\r\n",
       "<path fill=\"#e58139\" stroke=\"black\" d=\"M555,-306C555,-306 457,-306 457,-306 451,-306 445,-300 445,-294 445,-294 445,-235 445,-235 445,-229 451,-223 457,-223 457,-223 555,-223 555,-223 561,-223 567,-229 567,-235 567,-235 567,-294 567,-294 567,-300 561,-306 555,-306\"/>\r\n",
       "<text text-anchor=\"start\" x=\"456.5\" y=\"-290.8\" font-family=\"Helvetica,sans-Serif\" font-size=\"14.00\">gill&#45;size_n ≤ 0.5</text>\r\n",
       "<text text-anchor=\"start\" x=\"468.5\" y=\"-275.8\" font-family=\"Helvetica,sans-Serif\" font-size=\"14.00\">gini = 0.002</text>\r\n",
       "<text text-anchor=\"start\" x=\"454.5\" y=\"-260.8\" font-family=\"Helvetica,sans-Serif\" font-size=\"14.00\">samples = 2371</text>\r\n",
       "<text text-anchor=\"start\" x=\"453\" y=\"-245.8\" font-family=\"Helvetica,sans-Serif\" font-size=\"14.00\">value = [2369, 2]</text>\r\n",
       "<text text-anchor=\"start\" x=\"477\" y=\"-230.8\" font-family=\"Helvetica,sans-Serif\" font-size=\"14.00\">class = p</text>\r\n",
       "</g>\r\n",
       "<!-- 15&#45;&gt;16 -->\r\n",
       "<g id=\"edge16\" class=\"edge\"><title>15&#45;&gt;16</title>\r\n",
       "<path fill=\"none\" stroke=\"black\" d=\"M547.796,-341.907C543.03,-333.195 537.944,-323.897 533.019,-314.893\"/>\r\n",
       "<polygon fill=\"black\" stroke=\"black\" points=\"536.035,-313.114 528.165,-306.021 529.894,-316.474 536.035,-313.114\"/>\r\n",
       "</g>\r\n",
       "<!-- 21 -->\r\n",
       "<g id=\"node22\" class=\"node\"><title>21</title>\r\n",
       "<path fill=\"#399de5\" stroke=\"black\" d=\"M670.5,-298.5C670.5,-298.5 597.5,-298.5 597.5,-298.5 591.5,-298.5 585.5,-292.5 585.5,-286.5 585.5,-286.5 585.5,-242.5 585.5,-242.5 585.5,-236.5 591.5,-230.5 597.5,-230.5 597.5,-230.5 670.5,-230.5 670.5,-230.5 676.5,-230.5 682.5,-236.5 682.5,-242.5 682.5,-242.5 682.5,-286.5 682.5,-286.5 682.5,-292.5 676.5,-298.5 670.5,-298.5\"/>\r\n",
       "<text text-anchor=\"start\" x=\"605\" y=\"-283.3\" font-family=\"Helvetica,sans-Serif\" font-size=\"14.00\">gini = 0.0</text>\r\n",
       "<text text-anchor=\"start\" x=\"594.5\" y=\"-268.3\" font-family=\"Helvetica,sans-Serif\" font-size=\"14.00\">samples = 1</text>\r\n",
       "<text text-anchor=\"start\" x=\"593.5\" y=\"-253.3\" font-family=\"Helvetica,sans-Serif\" font-size=\"14.00\">value = [0, 1]</text>\r\n",
       "<text text-anchor=\"start\" x=\"605\" y=\"-238.3\" font-family=\"Helvetica,sans-Serif\" font-size=\"14.00\">class = e</text>\r\n",
       "</g>\r\n",
       "<!-- 15&#45;&gt;21 -->\r\n",
       "<g id=\"edge21\" class=\"edge\"><title>15&#45;&gt;21</title>\r\n",
       "<path fill=\"none\" stroke=\"black\" d=\"M592.204,-341.907C598.24,-330.873 604.791,-318.898 610.876,-307.773\"/>\r\n",
       "<polygon fill=\"black\" stroke=\"black\" points=\"614.129,-309.12 615.857,-298.667 607.988,-305.76 614.129,-309.12\"/>\r\n",
       "</g>\r\n",
       "<!-- 17 -->\r\n",
       "<g id=\"node18\" class=\"node\"><title>17</title>\r\n",
       "<path fill=\"#e58139\" stroke=\"black\" d=\"M487,-179.5C487,-179.5 389,-179.5 389,-179.5 383,-179.5 377,-173.5 377,-167.5 377,-167.5 377,-123.5 377,-123.5 377,-117.5 383,-111.5 389,-111.5 389,-111.5 487,-111.5 487,-111.5 493,-111.5 499,-117.5 499,-123.5 499,-123.5 499,-167.5 499,-167.5 499,-173.5 493,-179.5 487,-179.5\"/>\r\n",
       "<text text-anchor=\"start\" x=\"409\" y=\"-164.3\" font-family=\"Helvetica,sans-Serif\" font-size=\"14.00\">gini = 0.0</text>\r\n",
       "<text text-anchor=\"start\" x=\"386.5\" y=\"-149.3\" font-family=\"Helvetica,sans-Serif\" font-size=\"14.00\">samples = 2231</text>\r\n",
       "<text text-anchor=\"start\" x=\"385\" y=\"-134.3\" font-family=\"Helvetica,sans-Serif\" font-size=\"14.00\">value = [2231, 0]</text>\r\n",
       "<text text-anchor=\"start\" x=\"409\" y=\"-119.3\" font-family=\"Helvetica,sans-Serif\" font-size=\"14.00\">class = p</text>\r\n",
       "</g>\r\n",
       "<!-- 16&#45;&gt;17 -->\r\n",
       "<g id=\"edge17\" class=\"edge\"><title>16&#45;&gt;17</title>\r\n",
       "<path fill=\"none\" stroke=\"black\" d=\"M482.408,-222.907C475.93,-211.763 468.895,-199.658 462.375,-188.439\"/>\r\n",
       "<polygon fill=\"black\" stroke=\"black\" points=\"465.328,-186.554 457.277,-179.667 459.275,-190.072 465.328,-186.554\"/>\r\n",
       "</g>\r\n",
       "<!-- 18 -->\r\n",
       "<g id=\"node19\" class=\"node\"><title>18</title>\r\n",
       "<path fill=\"#e5833c\" stroke=\"black\" d=\"M618.5,-187C618.5,-187 529.5,-187 529.5,-187 523.5,-187 517.5,-181 517.5,-175 517.5,-175 517.5,-116 517.5,-116 517.5,-110 523.5,-104 529.5,-104 529.5,-104 618.5,-104 618.5,-104 624.5,-104 630.5,-110 630.5,-116 630.5,-116 630.5,-175 630.5,-175 630.5,-181 624.5,-187 618.5,-187\"/>\r\n",
       "<text text-anchor=\"start\" x=\"527\" y=\"-171.8\" font-family=\"Helvetica,sans-Serif\" font-size=\"14.00\">bruises_t ≤ 0.5</text>\r\n",
       "<text text-anchor=\"start\" x=\"536.5\" y=\"-156.8\" font-family=\"Helvetica,sans-Serif\" font-size=\"14.00\">gini = 0.028</text>\r\n",
       "<text text-anchor=\"start\" x=\"526.5\" y=\"-141.8\" font-family=\"Helvetica,sans-Serif\" font-size=\"14.00\">samples = 140</text>\r\n",
       "<text text-anchor=\"start\" x=\"525.5\" y=\"-126.8\" font-family=\"Helvetica,sans-Serif\" font-size=\"14.00\">value = [138, 2]</text>\r\n",
       "<text text-anchor=\"start\" x=\"545\" y=\"-111.8\" font-family=\"Helvetica,sans-Serif\" font-size=\"14.00\">class = p</text>\r\n",
       "</g>\r\n",
       "<!-- 16&#45;&gt;18 -->\r\n",
       "<g id=\"edge18\" class=\"edge\"><title>16&#45;&gt;18</title>\r\n",
       "<path fill=\"none\" stroke=\"black\" d=\"M529.592,-222.907C534.656,-214.195 540.06,-204.897 545.293,-195.893\"/>\r\n",
       "<polygon fill=\"black\" stroke=\"black\" points=\"548.451,-197.425 550.449,-187.021 542.398,-193.908 548.451,-197.425\"/>\r\n",
       "</g>\r\n",
       "<!-- 19 -->\r\n",
       "<g id=\"node20\" class=\"node\"><title>19</title>\r\n",
       "<path fill=\"#e58139\" stroke=\"black\" d=\"M556.5,-68C556.5,-68 467.5,-68 467.5,-68 461.5,-68 455.5,-62 455.5,-56 455.5,-56 455.5,-12 455.5,-12 455.5,-6 461.5,-0 467.5,-0 467.5,-0 556.5,-0 556.5,-0 562.5,-0 568.5,-6 568.5,-12 568.5,-12 568.5,-56 568.5,-56 568.5,-62 562.5,-68 556.5,-68\"/>\r\n",
       "<text text-anchor=\"start\" x=\"483\" y=\"-52.8\" font-family=\"Helvetica,sans-Serif\" font-size=\"14.00\">gini = 0.0</text>\r\n",
       "<text text-anchor=\"start\" x=\"464.5\" y=\"-37.8\" font-family=\"Helvetica,sans-Serif\" font-size=\"14.00\">samples = 138</text>\r\n",
       "<text text-anchor=\"start\" x=\"463.5\" y=\"-22.8\" font-family=\"Helvetica,sans-Serif\" font-size=\"14.00\">value = [138, 0]</text>\r\n",
       "<text text-anchor=\"start\" x=\"483\" y=\"-7.8\" font-family=\"Helvetica,sans-Serif\" font-size=\"14.00\">class = p</text>\r\n",
       "</g>\r\n",
       "<!-- 18&#45;&gt;19 -->\r\n",
       "<g id=\"edge19\" class=\"edge\"><title>18&#45;&gt;19</title>\r\n",
       "<path fill=\"none\" stroke=\"black\" d=\"M550.913,-103.726C546.007,-95.0615 540.818,-85.8962 535.883,-77.1802\"/>\r\n",
       "<polygon fill=\"black\" stroke=\"black\" points=\"538.827,-75.277 530.855,-68.2996 532.736,-78.726 538.827,-75.277\"/>\r\n",
       "</g>\r\n",
       "<!-- 20 -->\r\n",
       "<g id=\"node21\" class=\"node\"><title>20</title>\r\n",
       "<path fill=\"#399de5\" stroke=\"black\" d=\"M671.5,-68C671.5,-68 598.5,-68 598.5,-68 592.5,-68 586.5,-62 586.5,-56 586.5,-56 586.5,-12 586.5,-12 586.5,-6 592.5,-0 598.5,-0 598.5,-0 671.5,-0 671.5,-0 677.5,-0 683.5,-6 683.5,-12 683.5,-12 683.5,-56 683.5,-56 683.5,-62 677.5,-68 671.5,-68\"/>\r\n",
       "<text text-anchor=\"start\" x=\"606\" y=\"-52.8\" font-family=\"Helvetica,sans-Serif\" font-size=\"14.00\">gini = 0.0</text>\r\n",
       "<text text-anchor=\"start\" x=\"595.5\" y=\"-37.8\" font-family=\"Helvetica,sans-Serif\" font-size=\"14.00\">samples = 2</text>\r\n",
       "<text text-anchor=\"start\" x=\"594.5\" y=\"-22.8\" font-family=\"Helvetica,sans-Serif\" font-size=\"14.00\">value = [0, 2]</text>\r\n",
       "<text text-anchor=\"start\" x=\"606\" y=\"-7.8\" font-family=\"Helvetica,sans-Serif\" font-size=\"14.00\">class = e</text>\r\n",
       "</g>\r\n",
       "<!-- 18&#45;&gt;20 -->\r\n",
       "<g id=\"edge20\" class=\"edge\"><title>18&#45;&gt;20</title>\r\n",
       "<path fill=\"none\" stroke=\"black\" d=\"M596.714,-103.726C601.541,-95.0615 606.647,-85.8962 611.502,-77.1802\"/>\r\n",
       "<polygon fill=\"black\" stroke=\"black\" points=\"614.64,-78.7389 616.45,-68.2996 608.525,-75.3322 614.64,-78.7389\"/>\r\n",
       "</g>\r\n",
       "<!-- 24 -->\r\n",
       "<g id=\"node25\" class=\"node\"><title>24</title>\r\n",
       "<path fill=\"#399de5\" stroke=\"black\" d=\"M881.5,-417.5C881.5,-417.5 800.5,-417.5 800.5,-417.5 794.5,-417.5 788.5,-411.5 788.5,-405.5 788.5,-405.5 788.5,-361.5 788.5,-361.5 788.5,-355.5 794.5,-349.5 800.5,-349.5 800.5,-349.5 881.5,-349.5 881.5,-349.5 887.5,-349.5 893.5,-355.5 893.5,-361.5 893.5,-361.5 893.5,-405.5 893.5,-405.5 893.5,-411.5 887.5,-417.5 881.5,-417.5\"/>\r\n",
       "<text text-anchor=\"start\" x=\"812\" y=\"-402.3\" font-family=\"Helvetica,sans-Serif\" font-size=\"14.00\">gini = 0.0</text>\r\n",
       "<text text-anchor=\"start\" x=\"797.5\" y=\"-387.3\" font-family=\"Helvetica,sans-Serif\" font-size=\"14.00\">samples = 30</text>\r\n",
       "<text text-anchor=\"start\" x=\"796.5\" y=\"-372.3\" font-family=\"Helvetica,sans-Serif\" font-size=\"14.00\">value = [0, 30]</text>\r\n",
       "<text text-anchor=\"start\" x=\"812\" y=\"-357.3\" font-family=\"Helvetica,sans-Serif\" font-size=\"14.00\">class = e</text>\r\n",
       "</g>\r\n",
       "<!-- 23&#45;&gt;24 -->\r\n",
       "<g id=\"edge24\" class=\"edge\"><title>23&#45;&gt;24</title>\r\n",
       "<path fill=\"none\" stroke=\"black\" d=\"M847.531,-460.907C846.616,-450.204 845.625,-438.615 844.699,-427.776\"/>\r\n",
       "<polygon fill=\"black\" stroke=\"black\" points=\"848.174,-427.333 843.835,-417.667 841.199,-427.929 848.174,-427.333\"/>\r\n",
       "</g>\r\n",
       "<!-- 25 -->\r\n",
       "<g id=\"node26\" class=\"node\"><title>25</title>\r\n",
       "<path fill=\"#e58139\" stroke=\"black\" d=\"M1004.5,-417.5C1004.5,-417.5 923.5,-417.5 923.5,-417.5 917.5,-417.5 911.5,-411.5 911.5,-405.5 911.5,-405.5 911.5,-361.5 911.5,-361.5 911.5,-355.5 917.5,-349.5 923.5,-349.5 923.5,-349.5 1004.5,-349.5 1004.5,-349.5 1010.5,-349.5 1016.5,-355.5 1016.5,-361.5 1016.5,-361.5 1016.5,-405.5 1016.5,-405.5 1016.5,-411.5 1010.5,-417.5 1004.5,-417.5\"/>\r\n",
       "<text text-anchor=\"start\" x=\"935\" y=\"-402.3\" font-family=\"Helvetica,sans-Serif\" font-size=\"14.00\">gini = 0.0</text>\r\n",
       "<text text-anchor=\"start\" x=\"920.5\" y=\"-387.3\" font-family=\"Helvetica,sans-Serif\" font-size=\"14.00\">samples = 13</text>\r\n",
       "<text text-anchor=\"start\" x=\"919.5\" y=\"-372.3\" font-family=\"Helvetica,sans-Serif\" font-size=\"14.00\">value = [13, 0]</text>\r\n",
       "<text text-anchor=\"start\" x=\"935\" y=\"-357.3\" font-family=\"Helvetica,sans-Serif\" font-size=\"14.00\">class = p</text>\r\n",
       "</g>\r\n",
       "<!-- 23&#45;&gt;25 -->\r\n",
       "<g id=\"edge25\" class=\"edge\"><title>23&#45;&gt;25</title>\r\n",
       "<path fill=\"none\" stroke=\"black\" d=\"M890.205,-460.907C901.395,-449.321 913.587,-436.698 924.778,-425.111\"/>\r\n",
       "<polygon fill=\"black\" stroke=\"black\" points=\"927.537,-427.291 931.967,-417.667 922.502,-422.428 927.537,-427.291\"/>\r\n",
       "</g>\r\n",
       "</g>\r\n",
       "</svg>\r\n"
      ],
      "text/plain": [
       "<graphviz.files.Source at 0x2303e557608>"
      ]
     },
     "execution_count": 220,
     "metadata": {},
     "output_type": "execute_result"
    }
   ],
   "source": [
    "dot_data = tree.export_graphviz(clf, out_file=None, \n",
    "                         feature_names=mushroom_preprocessed.columns,  \n",
    "                         class_names=['p','e'],  \n",
    "                         filled=True, rounded=True,  \n",
    "                         special_characters=True)  \n",
    "graph = graphviz.Source(dot_data)  \n",
    "graph\n",
    "#graph.format = 'png'\n",
    "#graph.render('dtree_render',view=True)"
   ]
  },
  {
   "cell_type": "code",
   "execution_count": 221,
   "metadata": {},
   "outputs": [
    {
     "name": "stdout",
     "output_type": "stream",
     "text": [
      "mean: 1.000 (std: 0.000)\n"
     ]
    }
   ],
   "source": [
    "scores = cross_val_score(clf, X_train, y_train, cv=5)\n",
    "print(\"mean: {:.3f} (std: {:.3f})\".format(scores.mean(),\n",
    "                                              scores.std()))"
   ]
  },
  {
   "cell_type": "code",
   "execution_count": 222,
   "metadata": {},
   "outputs": [
    {
     "name": "stdout",
     "output_type": "stream",
     "text": [
      "Max depth: 1 - accuracy: 0.8859721082854799\n",
      "Max depth: 2 - accuracy: 0.9536505332239541\n",
      "Max depth: 3 - accuracy: 0.9885151763740772\n",
      "Max depth: 4 - accuracy: 0.985233798195242\n",
      "Max depth: 5 - accuracy: 0.9995898277276456\n"
     ]
    }
   ],
   "source": [
    "for i in range(1,6):\n",
    "    mad = DecisionTreeClassifier(max_depth=i,random_state=42)\n",
    "    mad.fit(X_train,y_train)\n",
    "    y_pred = mad.predict(X_test)\n",
    "    print(\"Max depth: {} - accuracy:\".format(i), accuracy_score(y_test, y_pred, normalize=True))"
   ]
  },
  {
   "cell_type": "code",
   "execution_count": 223,
   "metadata": {},
   "outputs": [
    {
     "name": "stdout",
     "output_type": "stream",
     "text": [
      "[[1269    0]\n",
      " [   1 1168]]\n"
     ]
    }
   ],
   "source": [
    "print(confusion_matrix(y_test, y_pred))"
   ]
  }
 ],
 "metadata": {
  "kernelspec": {
   "display_name": "Python 3",
   "language": "python",
   "name": "python3"
  },
  "language_info": {
   "codemirror_mode": {
    "name": "ipython",
    "version": 3
   },
   "file_extension": ".py",
   "mimetype": "text/x-python",
   "name": "python",
   "nbconvert_exporter": "python",
   "pygments_lexer": "ipython3",
   "version": "3.7.4"
  }
 },
 "nbformat": 4,
 "nbformat_minor": 2
}
